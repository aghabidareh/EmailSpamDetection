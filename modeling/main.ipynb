{
 "cells": [
  {
   "cell_type": "code",
   "id": "81a76be4-aaa2-4a1b-939f-ef805b0a1f35",
   "metadata": {
    "ExecuteTime": {
     "end_time": "2025-02-25T10:35:05.984442Z",
     "start_time": "2025-02-25T10:35:05.969290Z"
    }
   },
   "source": [
    "import pandas as pd\n",
    "import numpy as np\n",
    "from sklearn.model_selection import train_test_split\n",
    "from tensorflow.keras.preprocessing.text import Tokenizer\n",
    "from tensorflow.keras.preprocessing.sequence import pad_sequences\n",
    "from tensorflow.keras.models import Sequential\n",
    "from tensorflow.keras.layers import Embedding, LSTM, Dense, Dropout\n",
    "from tensorflow.keras.callbacks import EarlyStopping\n",
    "\n",
    "\n",
    "import random\n",
    "random.seed(42)"
   ],
   "outputs": [],
   "execution_count": 73
  },
  {
   "metadata": {
    "ExecuteTime": {
     "end_time": "2025-02-25T10:35:06.223678Z",
     "start_time": "2025-02-25T10:35:06.192012Z"
    }
   },
   "cell_type": "code",
   "source": [
    "data = pd.read_csv('data.csv')\n",
    "texts = data['text'].tolist()\n",
    "labels = data['label'].tolist()"
   ],
   "id": "59e162fd5c2a8e22",
   "outputs": [],
   "execution_count": 74
  },
  {
   "metadata": {
    "ExecuteTime": {
     "end_time": "2025-02-25T10:35:06.556368Z",
     "start_time": "2025-02-25T10:35:06.397225Z"
    }
   },
   "cell_type": "code",
   "source": [
    "tokenizer = Tokenizer(num_words=5000)\n",
    "tokenizer.fit_on_texts(texts)\n",
    "sequences = tokenizer.texts_to_sequences(texts)"
   ],
   "id": "e1756f8e061a4fe4",
   "outputs": [],
   "execution_count": 75
  },
  {
   "metadata": {
    "ExecuteTime": {
     "end_time": "2025-02-25T10:35:06.703710Z",
     "start_time": "2025-02-25T10:35:06.656443Z"
    }
   },
   "cell_type": "code",
   "source": [
    "max_len = 256\n",
    "X = pad_sequences(sequences, maxlen=max_len)"
   ],
   "id": "e2792e3638ac1784",
   "outputs": [],
   "execution_count": 76
  },
  {
   "metadata": {
    "ExecuteTime": {
     "end_time": "2025-02-25T10:35:07.041383Z",
     "start_time": "2025-02-25T10:35:07.025611Z"
    }
   },
   "cell_type": "code",
   "source": "y = np.array(labels)",
   "id": "663438824a42f75",
   "outputs": [],
   "execution_count": 77
  },
  {
   "metadata": {
    "ExecuteTime": {
     "end_time": "2025-02-25T10:35:07.362541Z",
     "start_time": "2025-02-25T10:35:07.342173Z"
    }
   },
   "cell_type": "code",
   "source": "X_train, X_test, y_train, y_test = train_test_split(X, y, test_size=0.2)",
   "id": "ad21091bca18fbf5",
   "outputs": [],
   "execution_count": 78
  },
  {
   "metadata": {
    "ExecuteTime": {
     "end_time": "2025-02-25T10:35:07.815515Z",
     "start_time": "2025-02-25T10:35:07.609045Z"
    }
   },
   "cell_type": "code",
   "source": [
    "model = Sequential([\n",
    "    Embedding(input_dim=5000, output_dim=128, input_length=max_len),\n",
    "    LSTM(256, return_sequences=False),\n",
    "    Dropout(0.5),\n",
    "    Dense(128 , activation='relu'),\n",
    "    Dense(1, activation='sigmoid')\n",
    "])"
   ],
   "id": "ad25c121b43e856a",
   "outputs": [],
   "execution_count": 79
  },
  {
   "metadata": {
    "ExecuteTime": {
     "end_time": "2025-02-25T10:35:07.938901Z",
     "start_time": "2025-02-25T10:35:07.918495Z"
    }
   },
   "cell_type": "code",
   "source": "model.compile(optimizer='adam', loss='binary_crossentropy', metrics=['accuracy'])",
   "id": "d22bf3d5ac3b9fc7",
   "outputs": [],
   "execution_count": 80
  },
  {
   "metadata": {
    "ExecuteTime": {
     "end_time": "2025-02-25T10:35:08.243505Z",
     "start_time": "2025-02-25T10:35:08.233480Z"
    }
   },
   "cell_type": "code",
   "source": "early_stopping = EarlyStopping(monitor='val_loss', patience=3, restore_best_weights=True)",
   "id": "68257b88d10ba1db",
   "outputs": [],
   "execution_count": 81
  },
  {
   "metadata": {
    "ExecuteTime": {
     "end_time": "2025-02-25T10:35:42.702918Z",
     "start_time": "2025-02-25T10:35:08.783253Z"
    }
   },
   "cell_type": "code",
   "source": [
    "history = model.fit(\n",
    "    X_train, y_train,\n",
    "    epochs=10,\n",
    "    batch_size=16,\n",
    "    validation_split=0.2,\n",
    "    callbacks=[early_stopping]\n",
    ")"
   ],
   "id": "dbb30c02541cedb4",
   "outputs": [
    {
     "name": "stdout",
     "output_type": "stream",
     "text": [
      "Epoch 1/10\n",
      "223/223 [==============================] - 7s 25ms/step - loss: 0.1193 - accuracy: 0.9647 - val_loss: 0.0487 - val_accuracy: 0.9865\n",
      "Epoch 2/10\n",
      "223/223 [==============================] - 5s 24ms/step - loss: 0.0311 - accuracy: 0.9927 - val_loss: 0.0380 - val_accuracy: 0.9854\n",
      "Epoch 3/10\n",
      "223/223 [==============================] - 5s 24ms/step - loss: 0.0113 - accuracy: 0.9972 - val_loss: 0.0301 - val_accuracy: 0.9899\n",
      "Epoch 4/10\n",
      "223/223 [==============================] - 5s 24ms/step - loss: 0.0033 - accuracy: 0.9989 - val_loss: 0.0346 - val_accuracy: 0.9888\n",
      "Epoch 5/10\n",
      "223/223 [==============================] - 5s 23ms/step - loss: 8.6962e-04 - accuracy: 1.0000 - val_loss: 0.0333 - val_accuracy: 0.9933\n",
      "Epoch 6/10\n",
      "223/223 [==============================] - 5s 24ms/step - loss: 2.2125e-04 - accuracy: 1.0000 - val_loss: 0.0337 - val_accuracy: 0.9933\n"
     ]
    }
   ],
   "execution_count": 82
  },
  {
   "metadata": {
    "ExecuteTime": {
     "end_time": "2025-02-25T10:35:44.137361Z",
     "start_time": "2025-02-25T10:35:42.702918Z"
    }
   },
   "cell_type": "code",
   "source": [
    "loss_train , accuracy_train = model.evaluate(X_train, y_train)\n",
    "print(f\"Training Accuracy: {accuracy_train:.4f}\")"
   ],
   "id": "9371fd01faac6843",
   "outputs": [
    {
     "name": "stdout",
     "output_type": "stream",
     "text": [
      "140/140 [==============================] - 1s 10ms/step - loss: 0.0091 - accuracy: 0.9971\n",
      "Training Accuracy: 0.9971\n"
     ]
    }
   ],
   "execution_count": 83
  },
  {
   "metadata": {
    "ExecuteTime": {
     "end_time": "2025-02-25T10:35:44.568693Z",
     "start_time": "2025-02-25T10:35:44.155608Z"
    }
   },
   "cell_type": "code",
   "source": [
    "loss, accuracy = model.evaluate(X_test, y_test)\n",
    "print(f\"Test Accuracy: {accuracy:.4f}\")"
   ],
   "id": "11906c62b66db57a",
   "outputs": [
    {
     "name": "stdout",
     "output_type": "stream",
     "text": [
      "35/35 [==============================] - 0s 10ms/step - loss: 0.0512 - accuracy: 0.9883\n",
      "Test Accuracy: 0.9883\n"
     ]
    }
   ],
   "execution_count": 84
  },
  {
   "metadata": {
    "ExecuteTime": {
     "end_time": "2025-02-25T10:35:44.599749Z",
     "start_time": "2025-02-25T10:35:44.591050Z"
    }
   },
   "cell_type": "code",
   "source": [
    "def predict_spam(texts):\n",
    "    sequences = tokenizer.texts_to_sequences(texts)\n",
    "    padded_sequences = pad_sequences(sequences, maxlen=max_len)\n",
    "\n",
    "    predictions = model.predict(padded_sequences)\n",
    "\n",
    "    return ['Spam' if pred > 0.5 else 'Not Spam' for pred in predictions]"
   ],
   "id": "ed297d0756e8312",
   "outputs": [],
   "execution_count": 85
  },
  {
   "metadata": {
    "ExecuteTime": {
     "end_time": "2025-02-25T10:35:44.911396Z",
     "start_time": "2025-02-25T10:35:44.612323Z"
    }
   },
   "cell_type": "code",
   "source": [
    "text = [\"Congratulations! You've won a free ticket to the cinema. Call now to claim your prize!\"]\n",
    "predictions = predict_spam(text)\n",
    "for t, label in zip(text, predictions):\n",
    "    print(f\"Text: {t}\\nPredicted Label: {label}\\n\")"
   ],
   "id": "ec1b0a3de811dae9",
   "outputs": [
    {
     "name": "stdout",
     "output_type": "stream",
     "text": [
      "WARNING:tensorflow:5 out of the last 5 calls to <function Model.make_predict_function.<locals>.predict_function at 0x0000020CCEAB3010> triggered tf.function retracing. Tracing is expensive and the excessive number of tracings could be due to (1) creating @tf.function repeatedly in a loop, (2) passing tensors with different shapes, (3) passing Python objects instead of tensors. For (1), please define your @tf.function outside of the loop. For (2), @tf.function has reduce_retracing=True option that can avoid unnecessary retracing. For (3), please refer to https://www.tensorflow.org/guide/function#controlling_retracing and https://www.tensorflow.org/api_docs/python/tf/function for  more details.\n",
      "1/1 [==============================] - 0s 250ms/step\n",
      "Text: Congratulations! You've won a free ticket to the cinema. Call now to claim your prize!\n",
      "Predicted Label: Spam\n",
      "\n"
     ]
    }
   ],
   "execution_count": 86
  },
  {
   "metadata": {
    "ExecuteTime": {
     "end_time": "2025-02-25T10:35:45.012339Z",
     "start_time": "2025-02-25T10:35:44.931935Z"
    }
   },
   "cell_type": "code",
   "source": "model.save('model.h5')",
   "id": "3f1c6cc8d7d337cf",
   "outputs": [],
   "execution_count": 87
  },
  {
   "metadata": {
    "ExecuteTime": {
     "end_time": "2025-02-25T10:35:45.215048Z",
     "start_time": "2025-02-25T10:35:45.056944Z"
    }
   },
   "cell_type": "code",
   "source": [
    "from joblib import dump\n",
    "with open('tokenizer.h5' , 'wb') as f:\n",
    "    dump(tokenizer, f)"
   ],
   "id": "fd0e971ce7012641",
   "outputs": [],
   "execution_count": 88
  },
  {
   "metadata": {
    "ExecuteTime": {
     "end_time": "2025-02-25T10:35:45.225452Z",
     "start_time": "2025-02-25T10:35:45.216465Z"
    }
   },
   "cell_type": "code",
   "source": [
    "import json\n",
    "params = {\n",
    "    'max_len' : max_len,\n",
    "    'num_words' : 5000,\n",
    "}\n",
    "\n",
    "with open('params.json', 'w') as f:\n",
    "    json.dump(params, f)"
   ],
   "id": "93eeaa326b67dd38",
   "outputs": [],
   "execution_count": 89
  }
 ],
 "metadata": {
  "kernelspec": {
   "display_name": "Python 3 (ipykernel)",
   "language": "python",
   "name": "python3"
  },
  "language_info": {
   "codemirror_mode": {
    "name": "ipython",
    "version": 3
   },
   "file_extension": ".py",
   "mimetype": "text/x-python",
   "name": "python",
   "nbconvert_exporter": "python",
   "pygments_lexer": "ipython3",
   "version": "3.12.7"
  }
 },
 "nbformat": 4,
 "nbformat_minor": 5
}
